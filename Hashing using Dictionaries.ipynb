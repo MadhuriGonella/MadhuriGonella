{
 "cells": [
  {
   "cell_type": "code",
   "execution_count": 6,
   "id": "5de8c31f",
   "metadata": {},
   "outputs": [
    {
     "name": "stdout",
     "output_type": "stream",
     "text": [
      "54 45 12 54\n",
      "10\n",
      "Hash value 2 key: None\n",
      "Hash value 2 key: None\n",
      "Hash value: 2 key: 12\n",
      "Hash value: 4 key: 54\n",
      "Hash value 5 key: None\n",
      "Hash value: 5 key: 45\n"
     ]
    }
   ],
   "source": [
    "#Hashing using Dictionaries:\n",
    "\n",
    "hash = { }\n",
    "keys = list(input().split())\n",
    "\n",
    "for i in range(len(keys)):\n",
    "    keys[i] = int(keys[i])\n",
    "n = int(input())\n",
    "\n",
    "for i in range(len(keys)):\n",
    "    hash[keys[i]] = keys[i] % n \n",
    "    \n",
    "for i in range(n):\n",
    "    if i in hash.values():\n",
    "        for key,val in hash.items():\n",
    "            if i == val:\n",
    "                print(\"Hash value:\",val,\"key:\",key)\n",
    "                break\n",
    "            else: print(\"Hash value\", i, \"key:\",\"None\")    \n",
    "                \n",
    "    "
   ]
  },
  {
   "cell_type": "code",
   "execution_count": null,
   "id": "0e83edc5",
   "metadata": {},
   "outputs": [],
   "source": []
  }
 ],
 "metadata": {
  "kernelspec": {
   "display_name": "Python 3",
   "language": "python",
   "name": "python3"
  },
  "language_info": {
   "codemirror_mode": {
    "name": "ipython",
    "version": 3
   },
   "file_extension": ".py",
   "mimetype": "text/x-python",
   "name": "python",
   "nbconvert_exporter": "python",
   "pygments_lexer": "ipython3",
   "version": "3.8.8"
  }
 },
 "nbformat": 4,
 "nbformat_minor": 5
}
