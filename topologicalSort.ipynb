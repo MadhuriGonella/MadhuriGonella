{
 "cells": [
  {
   "cell_type": "code",
   "execution_count": 11,
   "id": "71baeea2",
   "metadata": {},
   "outputs": [
    {
     "name": "stdout",
     "output_type": "stream",
     "text": [
      "Following is a Topological Sort of the given graph\n",
      "[5, 4, 2, 3, 1, 0]\n"
     ]
    }
   ],
   "source": [
    "from collections import defaultdict\n",
    "\n",
    "\n",
    "\n",
    "\n",
    "class Graph:\n",
    "    def __init__(self,vertices):\n",
    "        self.graph = defaultdict(list)\n",
    "        self.V = vertices\n",
    "        \n",
    "    def addEdge(self, u, v):\n",
    "        self.graph[u].append(v)\n",
    "        \n",
    "    def topologicalSortUntil(self, v, visited, stack):\n",
    "        \n",
    "        visited[v] = True\n",
    "        \n",
    "        for i in self.graph[v]:\n",
    "            if visited[i] == False:\n",
    "                self.topologicalSortUntil(i, visited, stack)\n",
    "                    \n",
    "        stack.append(v)\n",
    "        \n",
    "        \n",
    "    def topologicalSort(self):\n",
    "        \n",
    "        visited = [False]*self.V\n",
    "        stack = []\n",
    "        \n",
    "        for i in range(self.V):\n",
    "            if visited[i] == False:\n",
    "                self.topologicalSortUntil(i, visited, stack)\n",
    "                \n",
    "        print(stack[::-1])    \n",
    "        \n",
    "g = Graph(6)\n",
    "g.addEdge(5, 2)\n",
    "g.addEdge(5, 0)\n",
    "g.addEdge(4, 0)\n",
    "g.addEdge(4, 1)\n",
    "g.addEdge(2, 3)\n",
    "g.addEdge(3, 1)\n",
    " \n",
    "print (\"Following is a Topological Sort of the given graph\")\n",
    " \n",
    "\n",
    "g.topologicalSort()       \n",
    "            \n",
    "        \n",
    "                \n",
    "        "
   ]
  },
  {
   "cell_type": "code",
   "execution_count": 3,
   "id": "efb0b306",
   "metadata": {},
   "outputs": [
    {
     "ename": "TypeError",
     "evalue": "Graph() takes no arguments",
     "output_type": "error",
     "traceback": [
      "\u001b[1;31m---------------------------------------------------------------------------\u001b[0m",
      "\u001b[1;31mTypeError\u001b[0m                                 Traceback (most recent call last)",
      "\u001b[1;32m<ipython-input-3-e162b23e16d2>\u001b[0m in \u001b[0;36m<module>\u001b[1;34m\u001b[0m\n\u001b[1;32m----> 1\u001b[1;33m \u001b[0mg\u001b[0m \u001b[1;33m=\u001b[0m \u001b[0mGraph\u001b[0m\u001b[1;33m(\u001b[0m\u001b[1;36m6\u001b[0m\u001b[1;33m)\u001b[0m\u001b[1;33m\u001b[0m\u001b[1;33m\u001b[0m\u001b[0m\n\u001b[0m\u001b[0;32m      2\u001b[0m \u001b[0mg\u001b[0m\u001b[1;33m.\u001b[0m\u001b[0maddEdge\u001b[0m\u001b[1;33m(\u001b[0m\u001b[1;36m5\u001b[0m\u001b[1;33m,\u001b[0m \u001b[1;36m2\u001b[0m\u001b[1;33m)\u001b[0m\u001b[1;33m\u001b[0m\u001b[1;33m\u001b[0m\u001b[0m\n\u001b[0;32m      3\u001b[0m \u001b[0mg\u001b[0m\u001b[1;33m.\u001b[0m\u001b[0maddEdge\u001b[0m\u001b[1;33m(\u001b[0m\u001b[1;36m5\u001b[0m\u001b[1;33m,\u001b[0m \u001b[1;36m0\u001b[0m\u001b[1;33m)\u001b[0m\u001b[1;33m\u001b[0m\u001b[1;33m\u001b[0m\u001b[0m\n\u001b[0;32m      4\u001b[0m \u001b[0mg\u001b[0m\u001b[1;33m.\u001b[0m\u001b[0maddEdge\u001b[0m\u001b[1;33m(\u001b[0m\u001b[1;36m4\u001b[0m\u001b[1;33m,\u001b[0m \u001b[1;36m0\u001b[0m\u001b[1;33m)\u001b[0m\u001b[1;33m\u001b[0m\u001b[1;33m\u001b[0m\u001b[0m\n\u001b[0;32m      5\u001b[0m \u001b[0mg\u001b[0m\u001b[1;33m.\u001b[0m\u001b[0maddEdge\u001b[0m\u001b[1;33m(\u001b[0m\u001b[1;36m4\u001b[0m\u001b[1;33m,\u001b[0m \u001b[1;36m1\u001b[0m\u001b[1;33m)\u001b[0m\u001b[1;33m\u001b[0m\u001b[1;33m\u001b[0m\u001b[0m\n",
      "\u001b[1;31mTypeError\u001b[0m: Graph() takes no arguments"
     ]
    }
   ],
   "source": []
  },
  {
   "cell_type": "code",
   "execution_count": 8,
   "id": "a447bfc6",
   "metadata": {},
   "outputs": [
    {
     "name": "stdout",
     "output_type": "stream",
     "text": [
      "Following is a Topological Sort of the given graph\n",
      "[5, 4, 2, 3, 1, 0]\n"
     ]
    }
   ],
   "source": [
    "from collections import defaultdict\n",
    " \n",
    "# Class to represent a graph\n",
    " \n",
    " \n",
    "class Graph:\n",
    "    def __init__(self, vertices):\n",
    "        self.graph = defaultdict(list)  # dictionary containing adjacency List\n",
    "        self.V = vertices  # No. of vertices\n",
    " \n",
    "    # function to add an edge to graph\n",
    "    def addEdge(self, u, v):\n",
    "        self.graph[u].append(v)\n",
    " \n",
    "    # A recursive function used by topologicalSort\n",
    "    def topologicalSortUtil(self, v, visited, stack):\n",
    " \n",
    "        # Mark the current node as visited.\n",
    "        visited[v] = True\n",
    " \n",
    "        # Recur for all the vertices adjacent to this vertex\n",
    "        for i in self.graph[v]:\n",
    "            if visited[i] == False:\n",
    "                self.topologicalSortUtil(i, visited, stack)\n",
    " \n",
    "        # Push current vertex to stack which stores result\n",
    "        stack.append(v)\n",
    " \n",
    "    # The function to do Topological Sort. It uses recursive\n",
    "    # topologicalSortUtil()\n",
    "    def topologicalSort(self):\n",
    "        # Mark all the vertices as not visited\n",
    "        visited = [False]*self.V\n",
    "        stack = []\n",
    " \n",
    "        # Call the recursive helper function to store Topological\n",
    "        # Sort starting from all vertices one by one\n",
    "        for i in range(self.V):\n",
    "            if visited[i] == False:\n",
    "                self.topologicalSortUtil(i, visited, stack)\n",
    " \n",
    "        # Print contents of the stack\n",
    "        print(stack[::-1])  # return list in reverse order\n",
    " \n",
    " \n",
    "# Driver Code\n",
    "g = Graph(6)\n",
    "g.addEdge(5, 2)\n",
    "g.addEdge(5, 0)\n",
    "g.addEdge(4, 0)\n",
    "g.addEdge(4, 1)\n",
    "g.addEdge(2, 3)\n",
    "g.addEdge(3, 1)\n",
    " \n",
    "print (\"Following is a Topological Sort of the given graph\")\n",
    " \n",
    "# Function Call\n",
    "g.topologicalSort()"
   ]
  },
  {
   "cell_type": "code",
   "execution_count": 21,
   "id": "76fe8fe0",
   "metadata": {},
   "outputs": [
    {
     "name": "stdout",
     "output_type": "stream",
     "text": [
      "5 5\n",
      "A B\n",
      "A D\n",
      "B C\n",
      "D C\n",
      "C E\n",
      "defaultdict(<class 'list'>, {0: [1, 3], 1: [2], 3: [2], 2: [4]})\n",
      "['A', 'B', 'D']\n"
     ]
    }
   ],
   "source": [
    "def topsort(g,vtx):\n",
    "    degree = [0]*vtx\n",
    "    for node in g:\n",
    "        for adjnode in g[node]:\n",
    "            degree[adjnode]+=1\n",
    "            \n",
    "    bfs = [i for i in range(vtx) if degree[i] == 0]\n",
    "    for node in bfs:\n",
    "        for adjnode in g[node]:\n",
    "            degree[adjnode]-=1\n",
    "            if degree[adjnode] == 0:\n",
    "                bfs.append(adjnode)\n",
    "        return bfs\n",
    "from collections import defaultdict\n",
    "g = defaultdict(list)\n",
    "vtx,e = map(int,input().split())\n",
    "for i in range(e):\n",
    "    u,v = map(str,input().split())\n",
    "    u = ord(u) - ord('A')\n",
    "    v = ord(v) - ord('A')\n",
    "    g[u].append(v)\n",
    "print(g)\n",
    "topsort = topsort(g,vtx)\n",
    "topsort = [chr(i+65) for i in topsort]\n",
    "print(topsort)"
   ]
  },
  {
   "cell_type": "code",
   "execution_count": null,
   "id": "f372ff09",
   "metadata": {},
   "outputs": [],
   "source": []
  },
  {
   "cell_type": "code",
   "execution_count": null,
   "id": "8ac22b21",
   "metadata": {},
   "outputs": [],
   "source": []
  }
 ],
 "metadata": {
  "kernelspec": {
   "display_name": "Python 3",
   "language": "python",
   "name": "python3"
  },
  "language_info": {
   "codemirror_mode": {
    "name": "ipython",
    "version": 3
   },
   "file_extension": ".py",
   "mimetype": "text/x-python",
   "name": "python",
   "nbconvert_exporter": "python",
   "pygments_lexer": "ipython3",
   "version": "3.8.8"
  }
 },
 "nbformat": 4,
 "nbformat_minor": 5
}
